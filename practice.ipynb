{
  "nbformat": 4,
  "nbformat_minor": 0,
  "metadata": {
    "colab": {
      "provenance": [],
      "authorship_tag": "ABX9TyPtYWWt6hBR6hQFyBnYvL+A",
      "include_colab_link": true
    },
    "kernelspec": {
      "name": "python3",
      "display_name": "Python 3"
    },
    "language_info": {
      "name": "python"
    },
    "accelerator": "GPU",
    "gpuClass": "standard"
  },
  "cells": [
    {
      "cell_type": "markdown",
      "metadata": {
        "id": "view-in-github",
        "colab_type": "text"
      },
      "source": [
        "<a href=\"https://colab.research.google.com/github/Cynthia-Wanja-Dinah/practice3/blob/main/practice.ipynb\" target=\"_parent\"><img src=\"https://colab.research.google.com/assets/colab-badge.svg\" alt=\"Open In Colab\"/></a>"
      ]
    },
    {
      "cell_type": "code",
      "execution_count": 18,
      "metadata": {
        "id": "_0tARHjyNyVI"
      },
      "outputs": [],
      "source": [
        "import pandas as pd\n",
        "import numpy as np\n",
        "import matplotlib.pyplot as plt\n",
        "import seaborn as sns\n",
        "import warnings\n",
        "import pickle"
      ]
    },
    {
      "cell_type": "code",
      "source": [
        "df=pd.read_csv('/content/breast-cancer.csv')"
      ],
      "metadata": {
        "id": "V0ff-QjbOJk6"
      },
      "execution_count": 19,
      "outputs": []
    },
    {
      "cell_type": "code",
      "source": [
        "# we change the class values from B to 0 and from M to 1\n",
        "df.iloc[:,1].replace('B', 0,inplace=True)\n",
        "df.iloc[:,1].replace('M', 1,inplace=True)\n"
      ],
      "metadata": {
        "id": "Xro5OFsTOYxC"
      },
      "execution_count": 20,
      "outputs": []
    },
    {
      "cell_type": "code",
      "source": [
        "X = df[['texture_mean', 'area_mean', 'smoothness_mean', 'concavity_mean',\n",
        "       'texture_se', 'area_se', 'texture_worst', 'smoothness_worst',\n",
        "       'compactness_worst', 'symmetry_worst']]\n",
        "\n",
        "y = df[\"diagnosis\"]"
      ],
      "metadata": {
        "id": "XPOrZlKPOeaf"
      },
      "execution_count": 21,
      "outputs": []
    },
    {
      "cell_type": "code",
      "source": [
        "from sklearn.model_selection import train_test_split\n",
        "\n",
        "X_train, X_test, y_train, y_test = train_test_split(X, y, test_size=0.2, random_state=10)\n"
      ],
      "metadata": {
        "id": "a2R4XLedOjvv"
      },
      "execution_count": 22,
      "outputs": []
    },
    {
      "cell_type": "code",
      "source": [
        "from sklearn.linear_model import LogisticRegression\n",
        "\n",
        "# loading the logistic regression model to the variable clf\n",
        "model = LogisticRegression() \n",
        "\n",
        "# training the model on training data\n",
        "model.fit(X_train, y_train)\n",
        "\n",
        "prediction = model.predict(X_test)"
      ],
      "metadata": {
        "id": "oDLgogPiOo31",
        "colab": {
          "base_uri": "https://localhost:8080/"
        },
        "outputId": "d0db9aa0-886a-455a-ea12-4a106490127b"
      },
      "execution_count": 23,
      "outputs": [
        {
          "output_type": "stream",
          "name": "stderr",
          "text": [
            "/usr/local/lib/python3.8/dist-packages/sklearn/linear_model/_logistic.py:814: ConvergenceWarning: lbfgs failed to converge (status=1):\n",
            "STOP: TOTAL NO. of ITERATIONS REACHED LIMIT.\n",
            "\n",
            "Increase the number of iterations (max_iter) or scale the data as shown in:\n",
            "    https://scikit-learn.org/stable/modules/preprocessing.html\n",
            "Please also refer to the documentation for alternative solver options:\n",
            "    https://scikit-learn.org/stable/modules/linear_model.html#logistic-regression\n",
            "  n_iter_i = _check_optimize_result(\n"
          ]
        }
      ]
    },
    {
      "cell_type": "code",
      "source": [
        "from sklearn.metrics import accuracy_score\n",
        "x_train_prediction=model.predict(X_train)\n",
        "training_data_accuracy=accuracy_score(y_train,x_train_prediction)\n",
        "print(\"The accuracy of the training data \",training_data_accuracy)"
      ],
      "metadata": {
        "id": "QiJWnXZzPvx6",
        "colab": {
          "base_uri": "https://localhost:8080/"
        },
        "outputId": "a5378fcd-1e4d-4c41-ecae-2b1f98b6e094"
      },
      "execution_count": 24,
      "outputs": [
        {
          "output_type": "stream",
          "name": "stdout",
          "text": [
            "The accuracy of the training data  0.9538461538461539\n"
          ]
        }
      ]
    },
    {
      "cell_type": "code",
      "source": [
        "x_test_prediction=model.predict(X_test)\n",
        "testing_data_accuracy=accuracy_score(y_test,x_test_prediction)\n",
        "print(\"The accuracy of the testing data \",testing_data_accuracy)"
      ],
      "metadata": {
        "colab": {
          "base_uri": "https://localhost:8080/"
        },
        "id": "qpsB6H_PR3Po",
        "outputId": "8b44f71a-0865-4ed7-c525-7e9b531b5627"
      },
      "execution_count": 25,
      "outputs": [
        {
          "output_type": "stream",
          "name": "stdout",
          "text": [
            "The accuracy of the testing data  0.9473684210526315\n"
          ]
        }
      ]
    },
    {
      "cell_type": "code",
      "source": [
        "input_data=(12.44,273.9,0.1024,0.06492,0.9768,15.7,15.66,0.1324,0.1148,0.245)\n",
        "input_data_as_numpy_array=np.asarray(input_data)\n",
        "#reshape the numpy array as we are predicting for one data point\n",
        "input_data_reshaped=input_data_as_numpy_array.reshape(1,-1)\n",
        "prediction=model.predict(input_data_reshaped)\n",
        "print(prediction)\n",
        "if (prediction[0]==0):\n",
        " print(\"The breast cancer is benign:\")\n",
        "else:\n",
        "  print(\"The breast cancer is malignant\")\n",
        "\n"
      ],
      "metadata": {
        "colab": {
          "base_uri": "https://localhost:8080/"
        },
        "id": "iY4uTCWVSipi",
        "outputId": "ac1d3d8b-d532-4951-aeda-f2012775bef8"
      },
      "execution_count": 26,
      "outputs": [
        {
          "output_type": "stream",
          "name": "stdout",
          "text": [
            "[0]\n",
            "The breast cancer is benign:\n"
          ]
        },
        {
          "output_type": "stream",
          "name": "stderr",
          "text": [
            "/usr/local/lib/python3.8/dist-packages/sklearn/base.py:450: UserWarning: X does not have valid feature names, but LogisticRegression was fitted with feature names\n",
            "  warnings.warn(\n"
          ]
        }
      ]
    }
  ]
}